{
 "cells": [
  {
   "cell_type": "code",
   "execution_count": 1,
   "metadata": {},
   "outputs": [],
   "source": [
    "import pandas as pd \n",
    "import numpy as np \n",
    "\n",
    "p = [15 , 12,  8,   8,   7,   7,   7,   6,   5,   3]\n",
    "h = [10 , 25,  17,  11,  13,  17,  20,  13,  9,   15]\n",
    "\n",
    "phy = np.array(p)\n",
    "his = np.array(h)\n"
   ]
  },
  {
   "cell_type": "code",
   "execution_count": 2,
   "metadata": {},
   "outputs": [
    {
     "data": {
      "text/plain": [
       "array([15, 12,  8,  8,  7,  7,  7,  6,  5,  3])"
      ]
     },
     "execution_count": 2,
     "metadata": {},
     "output_type": "execute_result"
    }
   ],
   "source": [
    "phy"
   ]
  },
  {
   "cell_type": "code",
   "execution_count": 3,
   "metadata": {},
   "outputs": [
    {
     "data": {
      "text/plain": [
       "array([10, 25, 17, 11, 13, 17, 20, 13,  9, 15])"
      ]
     },
     "execution_count": 3,
     "metadata": {},
     "output_type": "execute_result"
    }
   ],
   "source": [
    "his"
   ]
  },
  {
   "cell_type": "code",
   "execution_count": 4,
   "metadata": {},
   "outputs": [],
   "source": [
    "covariance = np.cov(phy, his )"
   ]
  },
  {
   "cell_type": "code",
   "execution_count": 5,
   "metadata": {},
   "outputs": [],
   "source": [
    "from scipy.stats import pearsonr"
   ]
  },
  {
   "cell_type": "code",
   "execution_count": 7,
   "metadata": {},
   "outputs": [
    {
     "name": "stdout",
     "output_type": "stream",
     "text": [
      "Pearsons correlation: 0.145\n"
     ]
    }
   ],
   "source": [
    "corr, _ = pearsonr(phy, his)\n",
    "print('Pearsons correlation: %.3f' % corr)"
   ]
  },
  {
   "cell_type": "code",
   "execution_count": 24,
   "metadata": {},
   "outputs": [],
   "source": [
    "from math import ceil\n",
    "def minSum(num, k):\n",
    "    # Write your code here\n",
    "    final_array = []\n",
    "    for i in num:\n",
    "        \n",
    "        \n",
    "            "
   ]
  },
  {
   "cell_type": "code",
   "execution_count": 25,
   "metadata": {},
   "outputs": [
    {
     "name": "stdout",
     "output_type": "stream",
     "text": [
      "10\n",
      "20\n",
      "7\n"
     ]
    }
   ],
   "source": [
    "minSum([10,20,7], 4)"
   ]
  },
  {
   "cell_type": "code",
   "execution_count": 30,
   "metadata": {},
   "outputs": [],
   "source": [
    "url  ='https://s3.amazonaws.com/istreet-questions-us-east-1/443606/census.csv'"
   ]
  },
  {
   "cell_type": "code",
   "execution_count": 31,
   "metadata": {},
   "outputs": [],
   "source": [
    "c=pd.read_csv(url)"
   ]
  },
  {
   "cell_type": "code",
   "execution_count": 53,
   "metadata": {},
   "outputs": [],
   "source": [
    "df = pd.read_csv(url)"
   ]
  },
  {
   "cell_type": "code",
   "execution_count": 32,
   "metadata": {},
   "outputs": [
    {
     "data": {
      "text/html": [
       "<div>\n",
       "<style scoped>\n",
       "    .dataframe tbody tr th:only-of-type {\n",
       "        vertical-align: middle;\n",
       "    }\n",
       "\n",
       "    .dataframe tbody tr th {\n",
       "        vertical-align: top;\n",
       "    }\n",
       "\n",
       "    .dataframe thead th {\n",
       "        text-align: right;\n",
       "    }\n",
       "</style>\n",
       "<table border=\"1\" class=\"dataframe\">\n",
       "  <thead>\n",
       "    <tr style=\"text-align: right;\">\n",
       "      <th></th>\n",
       "      <th>age=Middle-aged</th>\n",
       "      <th>sex=Male</th>\n",
       "      <th>education=Bachelors</th>\n",
       "      <th>native-country=United-States</th>\n",
       "      <th>race=White</th>\n",
       "      <th>marital-status=Never-married</th>\n",
       "      <th>workclass=State-gov</th>\n",
       "      <th>occupation=Adm-clerical</th>\n",
       "      <th>hours-per-week=Full-time</th>\n",
       "      <th>income=Small</th>\n",
       "      <th>capital-gain=Low</th>\n",
       "      <th>capital-loss=None</th>\n",
       "    </tr>\n",
       "  </thead>\n",
       "  <tbody>\n",
       "    <tr>\n",
       "      <th>0</th>\n",
       "      <td>age=Senior</td>\n",
       "      <td>sex=Male</td>\n",
       "      <td>education=Bachelors</td>\n",
       "      <td>native-country=United-States</td>\n",
       "      <td>race=White</td>\n",
       "      <td>marital-status=Married-civ-spouse</td>\n",
       "      <td>workclass=Self-emp-not-inc</td>\n",
       "      <td>occupation=Exec-managerial</td>\n",
       "      <td>hours-per-week=Part-time</td>\n",
       "      <td>income=Small</td>\n",
       "      <td>capital-gain=None</td>\n",
       "      <td>capital-loss=None</td>\n",
       "    </tr>\n",
       "    <tr>\n",
       "      <th>1</th>\n",
       "      <td>age=Middle-aged</td>\n",
       "      <td>sex=Male</td>\n",
       "      <td>education=HS-grad</td>\n",
       "      <td>native-country=United-States</td>\n",
       "      <td>race=White</td>\n",
       "      <td>marital-status=Divorced</td>\n",
       "      <td>workclass=Private</td>\n",
       "      <td>occupation=Handlers-cleaners</td>\n",
       "      <td>hours-per-week=Full-time</td>\n",
       "      <td>income=Small</td>\n",
       "      <td>capital-gain=None</td>\n",
       "      <td>capital-loss=None</td>\n",
       "    </tr>\n",
       "    <tr>\n",
       "      <th>2</th>\n",
       "      <td>age=Senior</td>\n",
       "      <td>sex=Male</td>\n",
       "      <td>education=11th</td>\n",
       "      <td>native-country=United-States</td>\n",
       "      <td>race=Black</td>\n",
       "      <td>marital-status=Married-civ-spouse</td>\n",
       "      <td>workclass=Private</td>\n",
       "      <td>occupation=Handlers-cleaners</td>\n",
       "      <td>hours-per-week=Full-time</td>\n",
       "      <td>income=Small</td>\n",
       "      <td>capital-gain=None</td>\n",
       "      <td>capital-loss=None</td>\n",
       "    </tr>\n",
       "    <tr>\n",
       "      <th>3</th>\n",
       "      <td>age=Middle-aged</td>\n",
       "      <td>sex=Female</td>\n",
       "      <td>education=Bachelors</td>\n",
       "      <td>native-country=Cuba</td>\n",
       "      <td>race=Black</td>\n",
       "      <td>marital-status=Married-civ-spouse</td>\n",
       "      <td>workclass=Private</td>\n",
       "      <td>occupation=Prof-specialty</td>\n",
       "      <td>hours-per-week=Full-time</td>\n",
       "      <td>income=Small</td>\n",
       "      <td>capital-gain=None</td>\n",
       "      <td>capital-loss=None</td>\n",
       "    </tr>\n",
       "    <tr>\n",
       "      <th>4</th>\n",
       "      <td>age=Middle-aged</td>\n",
       "      <td>sex=Female</td>\n",
       "      <td>education=Masters</td>\n",
       "      <td>native-country=United-States</td>\n",
       "      <td>race=White</td>\n",
       "      <td>marital-status=Married-civ-spouse</td>\n",
       "      <td>workclass=Private</td>\n",
       "      <td>occupation=Exec-managerial</td>\n",
       "      <td>hours-per-week=Full-time</td>\n",
       "      <td>income=Small</td>\n",
       "      <td>capital-gain=None</td>\n",
       "      <td>capital-loss=None</td>\n",
       "    </tr>\n",
       "  </tbody>\n",
       "</table>\n",
       "</div>"
      ],
      "text/plain": [
       "   age=Middle-aged    sex=Male  education=Bachelors  \\\n",
       "0       age=Senior    sex=Male  education=Bachelors   \n",
       "1  age=Middle-aged    sex=Male    education=HS-grad   \n",
       "2       age=Senior    sex=Male       education=11th   \n",
       "3  age=Middle-aged  sex=Female  education=Bachelors   \n",
       "4  age=Middle-aged  sex=Female    education=Masters   \n",
       "\n",
       "   native-country=United-States  race=White  \\\n",
       "0  native-country=United-States  race=White   \n",
       "1  native-country=United-States  race=White   \n",
       "2  native-country=United-States  race=Black   \n",
       "3           native-country=Cuba  race=Black   \n",
       "4  native-country=United-States  race=White   \n",
       "\n",
       "        marital-status=Never-married         workclass=State-gov  \\\n",
       "0  marital-status=Married-civ-spouse  workclass=Self-emp-not-inc   \n",
       "1            marital-status=Divorced           workclass=Private   \n",
       "2  marital-status=Married-civ-spouse           workclass=Private   \n",
       "3  marital-status=Married-civ-spouse           workclass=Private   \n",
       "4  marital-status=Married-civ-spouse           workclass=Private   \n",
       "\n",
       "        occupation=Adm-clerical  hours-per-week=Full-time  income=Small  \\\n",
       "0    occupation=Exec-managerial  hours-per-week=Part-time  income=Small   \n",
       "1  occupation=Handlers-cleaners  hours-per-week=Full-time  income=Small   \n",
       "2  occupation=Handlers-cleaners  hours-per-week=Full-time  income=Small   \n",
       "3     occupation=Prof-specialty  hours-per-week=Full-time  income=Small   \n",
       "4    occupation=Exec-managerial  hours-per-week=Full-time  income=Small   \n",
       "\n",
       "    capital-gain=Low  capital-loss=None  \n",
       "0  capital-gain=None  capital-loss=None  \n",
       "1  capital-gain=None  capital-loss=None  \n",
       "2  capital-gain=None  capital-loss=None  \n",
       "3  capital-gain=None  capital-loss=None  \n",
       "4  capital-gain=None  capital-loss=None  "
      ]
     },
     "execution_count": 32,
     "metadata": {},
     "output_type": "execute_result"
    }
   ],
   "source": [
    "c.head()"
   ]
  },
  {
   "cell_type": "code",
   "execution_count": 34,
   "metadata": {},
   "outputs": [
    {
     "data": {
      "text/plain": [
       "age=Middle-aged                 object\n",
       "sex=Male                        object\n",
       "education=Bachelors             object\n",
       "native-country=United-States    object\n",
       "race=White                      object\n",
       "marital-status=Never-married    object\n",
       "workclass=State-gov             object\n",
       "occupation=Adm-clerical         object\n",
       "hours-per-week=Full-time        object\n",
       "income=Small                    object\n",
       "capital-gain=Low                object\n",
       "capital-loss=None               object\n",
       "dtype: object"
      ]
     },
     "execution_count": 34,
     "metadata": {},
     "output_type": "execute_result"
    }
   ],
   "source": [
    "c.dtypes"
   ]
  },
  {
   "cell_type": "code",
   "execution_count": 36,
   "metadata": {},
   "outputs": [
    {
     "data": {
      "text/plain": [
       "Index(['age=Middle-aged', 'sex=Male', 'education=Bachelors',\n",
       "       'native-country=United-States', 'race=White',\n",
       "       'marital-status=Never-married', 'workclass=State-gov',\n",
       "       'occupation=Adm-clerical', 'hours-per-week=Full-time', 'income=Small',\n",
       "       'capital-gain=Low', 'capital-loss=None'],\n",
       "      dtype='object')"
      ]
     },
     "execution_count": 36,
     "metadata": {},
     "output_type": "execute_result"
    }
   ],
   "source": [
    "c.columns"
   ]
  },
  {
   "cell_type": "code",
   "execution_count": 37,
   "metadata": {},
   "outputs": [
    {
     "data": {
      "text/plain": [
       "age=Middle-aged    15754\n",
       "age=Senior          7900\n",
       "age=Young           5668\n",
       "age=Old              839\n",
       "Name: age=Middle-aged, dtype: int64"
      ]
     },
     "execution_count": 37,
     "metadata": {},
     "output_type": "execute_result"
    }
   ],
   "source": [
    "c['age=Middle-aged'].value_counts()"
   ]
  },
  {
   "cell_type": "code",
   "execution_count": 39,
   "metadata": {},
   "outputs": [
    {
     "data": {
      "text/plain": [
       "sex=Male      20379\n",
       "sex=Female     9782\n",
       "Name: sex=Male, dtype: int64"
      ]
     },
     "execution_count": 39,
     "metadata": {},
     "output_type": "execute_result"
    }
   ],
   "source": [
    "c['sex=Male'].value_counts()"
   ]
  },
  {
   "cell_type": "code",
   "execution_count": 40,
   "metadata": {},
   "outputs": [],
   "source": [
    "c.columns = ['age', 'sex', 'education',\n",
    "       'native-country', 'race',\n",
    "       'marital-status', 'workclass',\n",
    "       'occupation', 'hours-per-week', 'income',\n",
    "       'capital-gain', 'capital-loss']"
   ]
  },
  {
   "cell_type": "code",
   "execution_count": 51,
   "metadata": {},
   "outputs": [
    {
     "data": {
      "text/html": [
       "<div>\n",
       "<style scoped>\n",
       "    .dataframe tbody tr th:only-of-type {\n",
       "        vertical-align: middle;\n",
       "    }\n",
       "\n",
       "    .dataframe tbody tr th {\n",
       "        vertical-align: top;\n",
       "    }\n",
       "\n",
       "    .dataframe thead th {\n",
       "        text-align: right;\n",
       "    }\n",
       "</style>\n",
       "<table border=\"1\" class=\"dataframe\">\n",
       "  <thead>\n",
       "    <tr style=\"text-align: right;\">\n",
       "      <th></th>\n",
       "      <th>sex</th>\n",
       "      <th>education</th>\n",
       "      <th>native-country</th>\n",
       "      <th>race</th>\n",
       "      <th>marital-status</th>\n",
       "      <th>workclass</th>\n",
       "      <th>occupation</th>\n",
       "      <th>hours-per-week</th>\n",
       "      <th>income</th>\n",
       "      <th>capital-gain</th>\n",
       "      <th>capital-loss</th>\n",
       "      <th>age_age=Middle-aged</th>\n",
       "      <th>age_age=Old</th>\n",
       "      <th>age_age=Senior</th>\n",
       "      <th>age_age=Young</th>\n",
       "    </tr>\n",
       "  </thead>\n",
       "  <tbody>\n",
       "    <tr>\n",
       "      <th>0</th>\n",
       "      <td>sex=Male</td>\n",
       "      <td>education=Bachelors</td>\n",
       "      <td>native-country=United-States</td>\n",
       "      <td>race=White</td>\n",
       "      <td>marital-status=Married-civ-spouse</td>\n",
       "      <td>workclass=Self-emp-not-inc</td>\n",
       "      <td>occupation=Exec-managerial</td>\n",
       "      <td>hours-per-week=Part-time</td>\n",
       "      <td>income=Small</td>\n",
       "      <td>capital-gain=None</td>\n",
       "      <td>capital-loss=None</td>\n",
       "      <td>0</td>\n",
       "      <td>0</td>\n",
       "      <td>1</td>\n",
       "      <td>0</td>\n",
       "    </tr>\n",
       "    <tr>\n",
       "      <th>1</th>\n",
       "      <td>sex=Male</td>\n",
       "      <td>education=HS-grad</td>\n",
       "      <td>native-country=United-States</td>\n",
       "      <td>race=White</td>\n",
       "      <td>marital-status=Divorced</td>\n",
       "      <td>workclass=Private</td>\n",
       "      <td>occupation=Handlers-cleaners</td>\n",
       "      <td>hours-per-week=Full-time</td>\n",
       "      <td>income=Small</td>\n",
       "      <td>capital-gain=None</td>\n",
       "      <td>capital-loss=None</td>\n",
       "      <td>1</td>\n",
       "      <td>0</td>\n",
       "      <td>0</td>\n",
       "      <td>0</td>\n",
       "    </tr>\n",
       "    <tr>\n",
       "      <th>2</th>\n",
       "      <td>sex=Male</td>\n",
       "      <td>education=11th</td>\n",
       "      <td>native-country=United-States</td>\n",
       "      <td>race=Black</td>\n",
       "      <td>marital-status=Married-civ-spouse</td>\n",
       "      <td>workclass=Private</td>\n",
       "      <td>occupation=Handlers-cleaners</td>\n",
       "      <td>hours-per-week=Full-time</td>\n",
       "      <td>income=Small</td>\n",
       "      <td>capital-gain=None</td>\n",
       "      <td>capital-loss=None</td>\n",
       "      <td>0</td>\n",
       "      <td>0</td>\n",
       "      <td>1</td>\n",
       "      <td>0</td>\n",
       "    </tr>\n",
       "    <tr>\n",
       "      <th>3</th>\n",
       "      <td>sex=Female</td>\n",
       "      <td>education=Bachelors</td>\n",
       "      <td>native-country=Cuba</td>\n",
       "      <td>race=Black</td>\n",
       "      <td>marital-status=Married-civ-spouse</td>\n",
       "      <td>workclass=Private</td>\n",
       "      <td>occupation=Prof-specialty</td>\n",
       "      <td>hours-per-week=Full-time</td>\n",
       "      <td>income=Small</td>\n",
       "      <td>capital-gain=None</td>\n",
       "      <td>capital-loss=None</td>\n",
       "      <td>1</td>\n",
       "      <td>0</td>\n",
       "      <td>0</td>\n",
       "      <td>0</td>\n",
       "    </tr>\n",
       "    <tr>\n",
       "      <th>4</th>\n",
       "      <td>sex=Female</td>\n",
       "      <td>education=Masters</td>\n",
       "      <td>native-country=United-States</td>\n",
       "      <td>race=White</td>\n",
       "      <td>marital-status=Married-civ-spouse</td>\n",
       "      <td>workclass=Private</td>\n",
       "      <td>occupation=Exec-managerial</td>\n",
       "      <td>hours-per-week=Full-time</td>\n",
       "      <td>income=Small</td>\n",
       "      <td>capital-gain=None</td>\n",
       "      <td>capital-loss=None</td>\n",
       "      <td>1</td>\n",
       "      <td>0</td>\n",
       "      <td>0</td>\n",
       "      <td>0</td>\n",
       "    </tr>\n",
       "  </tbody>\n",
       "</table>\n",
       "</div>"
      ],
      "text/plain": [
       "          sex            education                native-country        race  \\\n",
       "0    sex=Male  education=Bachelors  native-country=United-States  race=White   \n",
       "1    sex=Male    education=HS-grad  native-country=United-States  race=White   \n",
       "2    sex=Male       education=11th  native-country=United-States  race=Black   \n",
       "3  sex=Female  education=Bachelors           native-country=Cuba  race=Black   \n",
       "4  sex=Female    education=Masters  native-country=United-States  race=White   \n",
       "\n",
       "                      marital-status                   workclass  \\\n",
       "0  marital-status=Married-civ-spouse  workclass=Self-emp-not-inc   \n",
       "1            marital-status=Divorced           workclass=Private   \n",
       "2  marital-status=Married-civ-spouse           workclass=Private   \n",
       "3  marital-status=Married-civ-spouse           workclass=Private   \n",
       "4  marital-status=Married-civ-spouse           workclass=Private   \n",
       "\n",
       "                     occupation            hours-per-week        income  \\\n",
       "0    occupation=Exec-managerial  hours-per-week=Part-time  income=Small   \n",
       "1  occupation=Handlers-cleaners  hours-per-week=Full-time  income=Small   \n",
       "2  occupation=Handlers-cleaners  hours-per-week=Full-time  income=Small   \n",
       "3     occupation=Prof-specialty  hours-per-week=Full-time  income=Small   \n",
       "4    occupation=Exec-managerial  hours-per-week=Full-time  income=Small   \n",
       "\n",
       "        capital-gain       capital-loss  age_age=Middle-aged  age_age=Old  \\\n",
       "0  capital-gain=None  capital-loss=None                    0            0   \n",
       "1  capital-gain=None  capital-loss=None                    1            0   \n",
       "2  capital-gain=None  capital-loss=None                    0            0   \n",
       "3  capital-gain=None  capital-loss=None                    1            0   \n",
       "4  capital-gain=None  capital-loss=None                    1            0   \n",
       "\n",
       "   age_age=Senior  age_age=Young  \n",
       "0               1              0  \n",
       "1               0              0  \n",
       "2               1              0  \n",
       "3               0              0  \n",
       "4               0              0  "
      ]
     },
     "execution_count": 51,
     "metadata": {},
     "output_type": "execute_result"
    }
   ],
   "source": [
    "c.head()"
   ]
  },
  {
   "cell_type": "code",
   "execution_count": null,
   "metadata": {},
   "outputs": [],
   "source": []
  },
  {
   "cell_type": "code",
   "execution_count": 50,
   "metadata": {},
   "outputs": [
    {
     "data": {
      "text/html": [
       "<div>\n",
       "<style scoped>\n",
       "    .dataframe tbody tr th:only-of-type {\n",
       "        vertical-align: middle;\n",
       "    }\n",
       "\n",
       "    .dataframe tbody tr th {\n",
       "        vertical-align: top;\n",
       "    }\n",
       "\n",
       "    .dataframe thead th {\n",
       "        text-align: right;\n",
       "    }\n",
       "</style>\n",
       "<table border=\"1\" class=\"dataframe\">\n",
       "  <thead>\n",
       "    <tr style=\"text-align: right;\">\n",
       "      <th></th>\n",
       "      <th>sex</th>\n",
       "      <th>education</th>\n",
       "      <th>native-country</th>\n",
       "      <th>race</th>\n",
       "      <th>marital-status</th>\n",
       "      <th>workclass</th>\n",
       "      <th>occupation</th>\n",
       "      <th>hours-per-week</th>\n",
       "      <th>income</th>\n",
       "      <th>capital-gain</th>\n",
       "      <th>capital-loss</th>\n",
       "      <th>age_age=Middle-aged</th>\n",
       "      <th>age_age=Old</th>\n",
       "      <th>age_age=Senior</th>\n",
       "      <th>age_age=Young</th>\n",
       "    </tr>\n",
       "  </thead>\n",
       "  <tbody>\n",
       "    <tr>\n",
       "      <th>0</th>\n",
       "      <td>sex=Male</td>\n",
       "      <td>education=Bachelors</td>\n",
       "      <td>native-country=United-States</td>\n",
       "      <td>race=White</td>\n",
       "      <td>marital-status=Married-civ-spouse</td>\n",
       "      <td>workclass=Self-emp-not-inc</td>\n",
       "      <td>occupation=Exec-managerial</td>\n",
       "      <td>hours-per-week=Part-time</td>\n",
       "      <td>income=Small</td>\n",
       "      <td>capital-gain=None</td>\n",
       "      <td>capital-loss=None</td>\n",
       "      <td>0</td>\n",
       "      <td>0</td>\n",
       "      <td>1</td>\n",
       "      <td>0</td>\n",
       "    </tr>\n",
       "    <tr>\n",
       "      <th>1</th>\n",
       "      <td>sex=Male</td>\n",
       "      <td>education=HS-grad</td>\n",
       "      <td>native-country=United-States</td>\n",
       "      <td>race=White</td>\n",
       "      <td>marital-status=Divorced</td>\n",
       "      <td>workclass=Private</td>\n",
       "      <td>occupation=Handlers-cleaners</td>\n",
       "      <td>hours-per-week=Full-time</td>\n",
       "      <td>income=Small</td>\n",
       "      <td>capital-gain=None</td>\n",
       "      <td>capital-loss=None</td>\n",
       "      <td>1</td>\n",
       "      <td>0</td>\n",
       "      <td>0</td>\n",
       "      <td>0</td>\n",
       "    </tr>\n",
       "    <tr>\n",
       "      <th>2</th>\n",
       "      <td>sex=Male</td>\n",
       "      <td>education=11th</td>\n",
       "      <td>native-country=United-States</td>\n",
       "      <td>race=Black</td>\n",
       "      <td>marital-status=Married-civ-spouse</td>\n",
       "      <td>workclass=Private</td>\n",
       "      <td>occupation=Handlers-cleaners</td>\n",
       "      <td>hours-per-week=Full-time</td>\n",
       "      <td>income=Small</td>\n",
       "      <td>capital-gain=None</td>\n",
       "      <td>capital-loss=None</td>\n",
       "      <td>0</td>\n",
       "      <td>0</td>\n",
       "      <td>1</td>\n",
       "      <td>0</td>\n",
       "    </tr>\n",
       "    <tr>\n",
       "      <th>3</th>\n",
       "      <td>sex=Female</td>\n",
       "      <td>education=Bachelors</td>\n",
       "      <td>native-country=Cuba</td>\n",
       "      <td>race=Black</td>\n",
       "      <td>marital-status=Married-civ-spouse</td>\n",
       "      <td>workclass=Private</td>\n",
       "      <td>occupation=Prof-specialty</td>\n",
       "      <td>hours-per-week=Full-time</td>\n",
       "      <td>income=Small</td>\n",
       "      <td>capital-gain=None</td>\n",
       "      <td>capital-loss=None</td>\n",
       "      <td>1</td>\n",
       "      <td>0</td>\n",
       "      <td>0</td>\n",
       "      <td>0</td>\n",
       "    </tr>\n",
       "    <tr>\n",
       "      <th>4</th>\n",
       "      <td>sex=Female</td>\n",
       "      <td>education=Masters</td>\n",
       "      <td>native-country=United-States</td>\n",
       "      <td>race=White</td>\n",
       "      <td>marital-status=Married-civ-spouse</td>\n",
       "      <td>workclass=Private</td>\n",
       "      <td>occupation=Exec-managerial</td>\n",
       "      <td>hours-per-week=Full-time</td>\n",
       "      <td>income=Small</td>\n",
       "      <td>capital-gain=None</td>\n",
       "      <td>capital-loss=None</td>\n",
       "      <td>1</td>\n",
       "      <td>0</td>\n",
       "      <td>0</td>\n",
       "      <td>0</td>\n",
       "    </tr>\n",
       "  </tbody>\n",
       "</table>\n",
       "</div>"
      ],
      "text/plain": [
       "          sex            education                native-country        race  \\\n",
       "0    sex=Male  education=Bachelors  native-country=United-States  race=White   \n",
       "1    sex=Male    education=HS-grad  native-country=United-States  race=White   \n",
       "2    sex=Male       education=11th  native-country=United-States  race=Black   \n",
       "3  sex=Female  education=Bachelors           native-country=Cuba  race=Black   \n",
       "4  sex=Female    education=Masters  native-country=United-States  race=White   \n",
       "\n",
       "                      marital-status                   workclass  \\\n",
       "0  marital-status=Married-civ-spouse  workclass=Self-emp-not-inc   \n",
       "1            marital-status=Divorced           workclass=Private   \n",
       "2  marital-status=Married-civ-spouse           workclass=Private   \n",
       "3  marital-status=Married-civ-spouse           workclass=Private   \n",
       "4  marital-status=Married-civ-spouse           workclass=Private   \n",
       "\n",
       "                     occupation            hours-per-week        income  \\\n",
       "0    occupation=Exec-managerial  hours-per-week=Part-time  income=Small   \n",
       "1  occupation=Handlers-cleaners  hours-per-week=Full-time  income=Small   \n",
       "2  occupation=Handlers-cleaners  hours-per-week=Full-time  income=Small   \n",
       "3     occupation=Prof-specialty  hours-per-week=Full-time  income=Small   \n",
       "4    occupation=Exec-managerial  hours-per-week=Full-time  income=Small   \n",
       "\n",
       "        capital-gain       capital-loss  age_age=Middle-aged  age_age=Old  \\\n",
       "0  capital-gain=None  capital-loss=None                    0            0   \n",
       "1  capital-gain=None  capital-loss=None                    1            0   \n",
       "2  capital-gain=None  capital-loss=None                    0            0   \n",
       "3  capital-gain=None  capital-loss=None                    1            0   \n",
       "4  capital-gain=None  capital-loss=None                    1            0   \n",
       "\n",
       "   age_age=Senior  age_age=Young  \n",
       "0               1              0  \n",
       "1               0              0  \n",
       "2               1              0  \n",
       "3               0              0  \n",
       "4               0              0  "
      ]
     },
     "execution_count": 50,
     "metadata": {},
     "output_type": "execute_result"
    }
   ],
   "source": [
    "c.head()"
   ]
  },
  {
   "cell_type": "code",
   "execution_count": 52,
   "metadata": {},
   "outputs": [
    {
     "data": {
      "text/html": [
       "<div>\n",
       "<style scoped>\n",
       "    .dataframe tbody tr th:only-of-type {\n",
       "        vertical-align: middle;\n",
       "    }\n",
       "\n",
       "    .dataframe tbody tr th {\n",
       "        vertical-align: top;\n",
       "    }\n",
       "\n",
       "    .dataframe thead th {\n",
       "        text-align: right;\n",
       "    }\n",
       "</style>\n",
       "<table border=\"1\" class=\"dataframe\">\n",
       "  <thead>\n",
       "    <tr style=\"text-align: right;\">\n",
       "      <th></th>\n",
       "      <th>age_age=Middle-aged</th>\n",
       "      <th>age_age=Old</th>\n",
       "      <th>age_age=Senior</th>\n",
       "      <th>age_age=Young</th>\n",
       "    </tr>\n",
       "  </thead>\n",
       "  <tbody>\n",
       "    <tr>\n",
       "      <th>count</th>\n",
       "      <td>30161.000000</td>\n",
       "      <td>30161.000000</td>\n",
       "      <td>30161.000000</td>\n",
       "      <td>30161.000000</td>\n",
       "    </tr>\n",
       "    <tr>\n",
       "      <th>mean</th>\n",
       "      <td>0.522330</td>\n",
       "      <td>0.027817</td>\n",
       "      <td>0.261928</td>\n",
       "      <td>0.187925</td>\n",
       "    </tr>\n",
       "    <tr>\n",
       "      <th>std</th>\n",
       "      <td>0.499509</td>\n",
       "      <td>0.164452</td>\n",
       "      <td>0.439691</td>\n",
       "      <td>0.390659</td>\n",
       "    </tr>\n",
       "    <tr>\n",
       "      <th>min</th>\n",
       "      <td>0.000000</td>\n",
       "      <td>0.000000</td>\n",
       "      <td>0.000000</td>\n",
       "      <td>0.000000</td>\n",
       "    </tr>\n",
       "    <tr>\n",
       "      <th>25%</th>\n",
       "      <td>0.000000</td>\n",
       "      <td>0.000000</td>\n",
       "      <td>0.000000</td>\n",
       "      <td>0.000000</td>\n",
       "    </tr>\n",
       "    <tr>\n",
       "      <th>50%</th>\n",
       "      <td>1.000000</td>\n",
       "      <td>0.000000</td>\n",
       "      <td>0.000000</td>\n",
       "      <td>0.000000</td>\n",
       "    </tr>\n",
       "    <tr>\n",
       "      <th>75%</th>\n",
       "      <td>1.000000</td>\n",
       "      <td>0.000000</td>\n",
       "      <td>1.000000</td>\n",
       "      <td>0.000000</td>\n",
       "    </tr>\n",
       "    <tr>\n",
       "      <th>max</th>\n",
       "      <td>1.000000</td>\n",
       "      <td>1.000000</td>\n",
       "      <td>1.000000</td>\n",
       "      <td>1.000000</td>\n",
       "    </tr>\n",
       "  </tbody>\n",
       "</table>\n",
       "</div>"
      ],
      "text/plain": [
       "       age_age=Middle-aged   age_age=Old  age_age=Senior  age_age=Young\n",
       "count         30161.000000  30161.000000    30161.000000   30161.000000\n",
       "mean              0.522330      0.027817        0.261928       0.187925\n",
       "std               0.499509      0.164452        0.439691       0.390659\n",
       "min               0.000000      0.000000        0.000000       0.000000\n",
       "25%               0.000000      0.000000        0.000000       0.000000\n",
       "50%               1.000000      0.000000        0.000000       0.000000\n",
       "75%               1.000000      0.000000        1.000000       0.000000\n",
       "max               1.000000      1.000000        1.000000       1.000000"
      ]
     },
     "execution_count": 52,
     "metadata": {},
     "output_type": "execute_result"
    }
   ],
   "source": [
    "c.describe()"
   ]
  },
  {
   "cell_type": "code",
   "execution_count": 54,
   "metadata": {},
   "outputs": [],
   "source": [
    "import numpy as np "
   ]
  },
  {
   "cell_type": "code",
   "execution_count": 55,
   "metadata": {},
   "outputs": [
    {
     "data": {
      "text/plain": [
       "array([0, 1, 2, 3, 4, 5, 6, 7, 8, 9])"
      ]
     },
     "execution_count": 55,
     "metadata": {},
     "output_type": "execute_result"
    }
   ],
   "source": [
    "np.arange(0,10)"
   ]
  },
  {
   "cell_type": "code",
   "execution_count": 56,
   "metadata": {},
   "outputs": [
    {
     "data": {
      "text/plain": [
       "array([ 0,  2,  4,  6,  8, 10])"
      ]
     },
     "execution_count": 56,
     "metadata": {},
     "output_type": "execute_result"
    }
   ],
   "source": [
    "np.arange(0, 11, 2)"
   ]
  },
  {
   "cell_type": "code",
   "execution_count": 57,
   "metadata": {},
   "outputs": [
    {
     "data": {
      "text/plain": [
       "array([ 1.,  2.,  3.,  4.,  5.,  6.,  7.,  8.,  9., 10., 11., 12., 13.,\n",
       "       14., 15.])"
      ]
     },
     "execution_count": 57,
     "metadata": {},
     "output_type": "execute_result"
    }
   ],
   "source": [
    "np.linspace(1,15,15)"
   ]
  },
  {
   "cell_type": "code",
   "execution_count": 58,
   "metadata": {},
   "outputs": [
    {
     "data": {
      "text/plain": [
       "(array([ 5.  ,  6.25,  7.5 ,  8.75, 10.  , 11.25, 12.5 , 13.75, 15.  ]), 1.25)"
      ]
     },
     "execution_count": 58,
     "metadata": {},
     "output_type": "execute_result"
    }
   ],
   "source": [
    "np.linspace(5,15,9, retstep=True)"
   ]
  },
  {
   "cell_type": "code",
   "execution_count": 59,
   "metadata": {},
   "outputs": [
    {
     "data": {
      "text/plain": [
       "array([0., 0., 0., 0.])"
      ]
     },
     "execution_count": 59,
     "metadata": {},
     "output_type": "execute_result"
    }
   ],
   "source": [
    "np.zeros(4)"
   ]
  },
  {
   "cell_type": "code",
   "execution_count": 65,
   "metadata": {},
   "outputs": [],
   "source": [
    "s = np.zeros_like(5, order=(5,6) )"
   ]
  },
  {
   "cell_type": "code",
   "execution_count": 66,
   "metadata": {},
   "outputs": [
    {
     "data": {
      "text/plain": [
       "array(0)"
      ]
     },
     "execution_count": 66,
     "metadata": {},
     "output_type": "execute_result"
    }
   ],
   "source": [
    "s"
   ]
  },
  {
   "cell_type": "code",
   "execution_count": 67,
   "metadata": {},
   "outputs": [
    {
     "data": {
      "text/plain": [
       "array([[0., 0., 0., 0.],\n",
       "       [0., 0., 0., 0.],\n",
       "       [0., 0., 0., 0.]])"
      ]
     },
     "execution_count": 67,
     "metadata": {},
     "output_type": "execute_result"
    }
   ],
   "source": [
    "np.zeros((3,4))"
   ]
  },
  {
   "cell_type": "code",
   "execution_count": 68,
   "metadata": {},
   "outputs": [
    {
     "data": {
      "text/plain": [
       "array([1.])"
      ]
     },
     "execution_count": 68,
     "metadata": {},
     "output_type": "execute_result"
    }
   ],
   "source": [
    "np.ones(1)"
   ]
  },
  {
   "cell_type": "code",
   "execution_count": 70,
   "metadata": {},
   "outputs": [
    {
     "data": {
      "text/plain": [
       "array([[1., 1., 1.],\n",
       "       [1., 1., 1.]])"
      ]
     },
     "execution_count": 70,
     "metadata": {},
     "output_type": "execute_result"
    }
   ],
   "source": [
    "np.ones((2,3))"
   ]
  },
  {
   "cell_type": "code",
   "execution_count": 71,
   "metadata": {},
   "outputs": [
    {
     "data": {
      "text/plain": [
       "array([[1., 0., 0., 0., 0.],\n",
       "       [0., 1., 0., 0., 0.],\n",
       "       [0., 0., 1., 0., 0.],\n",
       "       [0., 0., 0., 1., 0.],\n",
       "       [0., 0., 0., 0., 1.]])"
      ]
     },
     "execution_count": 71,
     "metadata": {},
     "output_type": "execute_result"
    }
   ],
   "source": [
    "np.eye(5)"
   ]
  },
  {
   "cell_type": "code",
   "execution_count": null,
   "metadata": {},
   "outputs": [],
   "source": []
  }
 ],
 "metadata": {
  "kernelspec": {
   "display_name": "Python 3",
   "language": "python",
   "name": "python3"
  },
  "language_info": {
   "codemirror_mode": {
    "name": "ipython",
    "version": 3
   },
   "file_extension": ".py",
   "mimetype": "text/x-python",
   "name": "python",
   "nbconvert_exporter": "python",
   "pygments_lexer": "ipython3",
   "version": "3.7.3"
  }
 },
 "nbformat": 4,
 "nbformat_minor": 2
}
